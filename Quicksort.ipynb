{
 "cells": [
  {
   "cell_type": "code",
   "execution_count": 10,
   "metadata": {},
   "outputs": [
    {
     "name": "stdout",
     "output_type": "stream",
     "text": [
      "here is the list [2, 4, 5, 6, 7, 8, 9, 11, 12, 13, 19, 21]\n"
     ]
    }
   ],
   "source": [
    "#quick sort\n",
    "\n",
    "list = [13,19,9,5,12,8, 7, 4,21,2, 6,11]\n",
    "# [9,19,13,5,12,8, 7, 4,21,2, 6,11]\n",
    "# [9,5,13,19,12,8, 7, 4,21,2, 6,11]\n",
    "# [9,5,8,19,12,13, 7, 4,21,2, 6,11]\n",
    "# [9,5,8,7,4,2,6,12,21,13,19,11]\n",
    "\n",
    "\n",
    "def quick_sort(list, low, high):\n",
    "    if low < high:\n",
    "        p = partition(list, low, high)\n",
    "        quick_sort(list, low, p-1)\n",
    "        quick_sort(list, p+1, high)\n",
    "        \n",
    "        \n",
    "def partition(list, low, high):\n",
    "    divider = low\n",
    "    pivot = high\n",
    "# now compare all the ith elements with pivot    \n",
    "    for i in range(low, high):\n",
    "        if list[i] < list[pivot]:\n",
    "            list[i], list[divider] = list[divider], list[i]\n",
    "            divider += 1\n",
    "    list[pivot], list[divider] = list[divider], list[pivot]\n",
    "    \n",
    "    return divider\n",
    "quick_sort(list, 0, 11)\n",
    "print(\"here is the list\",list)\n",
    "\n",
    "\n",
    "            \n",
    "            \n",
    "            \n",
    "            \n",
    "            \n",
    "            \n",
    "        \n",
    "    \n",
    "    \n",
    "\n",
    "\n",
    "\n",
    "\n",
    "\n",
    "\n",
    "\n",
    "\n"
   ]
  },
  {
   "cell_type": "code",
   "execution_count": null,
   "metadata": {},
   "outputs": [],
   "source": []
  },
  {
   "cell_type": "code",
   "execution_count": null,
   "metadata": {},
   "outputs": [],
   "source": []
  }
 ],
 "metadata": {
  "kernelspec": {
   "display_name": "Python 3",
   "language": "python",
   "name": "python3"
  },
  "language_info": {
   "codemirror_mode": {
    "name": "ipython",
    "version": 3
   },
   "file_extension": ".py",
   "mimetype": "text/x-python",
   "name": "python",
   "nbconvert_exporter": "python",
   "pygments_lexer": "ipython3",
   "version": "3.7.3"
  }
 },
 "nbformat": 4,
 "nbformat_minor": 2
}
