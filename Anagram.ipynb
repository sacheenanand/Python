{
 "cells": [
  {
   "cell_type": "code",
   "execution_count": 1,
   "metadata": {},
   "outputs": [
    {
     "name": "stdout",
     "output_type": "stream",
     "text": [
      "hello world\n"
     ]
    }
   ],
   "source": [
    "spam = 0\n",
    "if spam < 5:\n",
    "    print(\"hello world\")\n",
    "    spam = spam + 1\n",
    "    "
   ]
  },
  {
   "cell_type": "code",
   "execution_count": 5,
   "metadata": {},
   "outputs": [
    {
     "name": "stdout",
     "output_type": "stream",
     "text": [
      "hello world\n",
      "hello world\n",
      "hello world\n",
      "hello world\n",
      "hello world\n"
     ]
    }
   ],
   "source": [
    "spam = 0\n",
    "while spam < 5:\n",
    "    print(\"hello world\")\n",
    "    spam = spam + 1"
   ]
  },
  {
   "cell_type": "code",
   "execution_count": 8,
   "metadata": {},
   "outputs": [
    {
     "name": "stdout",
     "output_type": "stream",
     "text": [
      "whats your name:   sacheen\n",
      "whats your name:   Arin\n",
      "whats your name:   utpal\n",
      "whats your name:   vanitha\n",
      "whats your name:   anand\n",
      "whats your name:   your name\n",
      "Thank you !\n"
     ]
    }
   ],
   "source": [
    "name = \"\"\n",
    "while name != \"your name\":\n",
    "    name = input(\"whats your name:   \")\n",
    "print(\"Thank you !\")"
   ]
  },
  {
   "cell_type": "code",
   "execution_count": 9,
   "metadata": {},
   "outputs": [
    {
     "name": "stdout",
     "output_type": "stream",
     "text": [
      "Enter your namesacheen\n",
      "Enter your nameyour name\n",
      "Thanks\n"
     ]
    }
   ],
   "source": [
    "while True:\n",
    "    name = input(\"Enter your name\")\n",
    "    if name == \"your name\":\n",
    "        break\n",
    "print(\"Thanks\")"
   ]
  },
  {
   "cell_type": "code",
   "execution_count": 13,
   "metadata": {},
   "outputs": [
    {
     "name": "stdout",
     "output_type": "stream",
     "text": [
      " who are you \n",
      " enter your name: Joe\n",
      "enter your password:  sword fish\n",
      "access granted\n"
     ]
    }
   ],
   "source": [
    "while True:\n",
    "    print(\" who are you \")\n",
    "    name = input(\" enter your name: \")\n",
    "    if name != \"Joe\":\n",
    "        continue\n",
    "    \n",
    "    password = input(\"enter your password:  \")\n",
    "    if password == \"sword fish\":\n",
    "        break\n",
    "print(\"access granted\")\n"
   ]
  },
  {
   "cell_type": "code",
   "execution_count": 16,
   "metadata": {},
   "outputs": [
    {
     "data": {
      "text/plain": [
       "True"
      ]
     },
     "execution_count": 16,
     "metadata": {},
     "output_type": "execute_result"
    }
   ],
   "source": [
    "\n",
    "def Anagram(s1, s2):\n",
    "    s1 = s1.replace(\" \", \"\").lower()\n",
    "    s2 = s2.replace(\" \", \"\").lower()\n",
    "\n",
    "    return sorted(s1) == sorted(s2)\n",
    "Anagram(\"listen bob in\", \"silent obb ni\")"
   ]
  },
  {
   "cell_type": "code",
   "execution_count": null,
   "metadata": {},
   "outputs": [],
   "source": []
  }
 ],
 "metadata": {
  "kernelspec": {
   "display_name": "Python 3",
   "language": "python",
   "name": "python3"
  },
  "language_info": {
   "codemirror_mode": {
    "name": "ipython",
    "version": 3
   },
   "file_extension": ".py",
   "mimetype": "text/x-python",
   "name": "python",
   "nbconvert_exporter": "python",
   "pygments_lexer": "ipython3",
   "version": "3.7.3"
  }
 },
 "nbformat": 4,
 "nbformat_minor": 2
}
