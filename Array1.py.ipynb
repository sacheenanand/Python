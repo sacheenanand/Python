{
 "cells": [
  {
   "cell_type": "code",
   "execution_count": 8,
   "metadata": {},
   "outputs": [
    {
     "name": "stdout",
     "output_type": "stream",
     "text": [
      "The maximun items that appeard  1\n"
     ]
    }
   ],
   "source": [
    "#given a list find the Maximum accouring Elements\n",
    "\n",
    "\n",
    "list = [1,1,1,3,3,2,4,5]\n",
    "\n",
    "def most_frequent(given_anylist):\n",
    "    max_count = -1\n",
    "    max_item = None\n",
    "    count = {}\n",
    "    \n",
    "    for i in given_anylist:\n",
    "        if i not in count:\n",
    "            count[i] = 1\n",
    "        else:\n",
    "            count[i]+=1\n",
    "    \n",
    "    \n",
    "        if count[i] > max_count:\n",
    "            max_count = count[i]\n",
    "            max_item = i\n",
    "        \n",
    "    return max_item\n",
    "\n",
    "print(\"The maximun items that appeard \" ,most_frequent(list))            \n",
    "\n",
    "\n",
    "\n",
    "\n",
    "\n",
    "\n",
    "\n",
    "\n",
    "\n",
    "\n",
    "\n",
    "\n",
    "\n",
    "\n",
    "\n",
    "\n",
    "\n"
   ]
  },
  {
   "cell_type": "code",
   "execution_count": null,
   "metadata": {},
   "outputs": [],
   "source": []
  },
  {
   "cell_type": "code",
   "execution_count": null,
   "metadata": {},
   "outputs": [],
   "source": []
  }
 ],
 "metadata": {
  "kernelspec": {
   "display_name": "Python 3",
   "language": "python",
   "name": "python3"
  },
  "language_info": {
   "codemirror_mode": {
    "name": "ipython",
    "version": 3
   },
   "file_extension": ".py",
   "mimetype": "text/x-python",
   "name": "python",
   "nbconvert_exporter": "python",
   "pygments_lexer": "ipython3",
   "version": "3.7.3"
  }
 },
 "nbformat": 4,
 "nbformat_minor": 2
}
