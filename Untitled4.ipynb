{
 "cells": [
  {
   "cell_type": "code",
   "execution_count": 10,
   "metadata": {},
   "outputs": [
    {
     "name": "stdout",
     "output_type": "stream",
     "text": [
      "[6, 6, 7, 8, 9, 18, 21, 21, 22]\n"
     ]
    }
   ],
   "source": [
    "#quick sort algoriathm\n",
    "#first we need to do partion mostly like divide and conquer method.\n",
    "\n",
    "Array = [6, 21, 7, 6, 21, 8, 18, 22, 9]\n",
    "\n",
    "def quick_sort(Array, low, high):\n",
    "    if low < high:\n",
    "        p = partion(Array, low, high)\n",
    "        quick_sort(Array, low, p-1)\n",
    "        quick_sort(Array, p+1, high)\n",
    "    \n",
    "    \n",
    "\n",
    "def partion(Array, low, high):\n",
    "    pivot = high\n",
    "    divider = low\n",
    "    \n",
    "    for i in range(low, high):\n",
    "        if Array[i] < Array[pivot]:\n",
    "            Array[i], Array[divider]=Array[divider], Array[i]\n",
    "            divider +=1\n",
    "    Array[pivot], Array[divider] = Array[divider], Array[pivot]\n",
    "    return divider\n",
    "Array = [6, 21, 7, 6, 21, 8, 18, 22, 9]\n",
    "quick_sort(Array, 0, 8)\n",
    "print(Array)\n",
    "    \n",
    "            \n",
    "        \n",
    "\n",
    "\n",
    "\n",
    "\n",
    "\n",
    "\n",
    "\n",
    "\n",
    "\n",
    "\n",
    "\n",
    "\n",
    "\n",
    "\n",
    "\n",
    "\n",
    "\n",
    "\n",
    "\n",
    "\n",
    "\n",
    "\n",
    "\n",
    "\n",
    "\n",
    "\n",
    "\n",
    "\n",
    "\n",
    "\n",
    "\n"
   ]
  },
  {
   "cell_type": "code",
   "execution_count": null,
   "metadata": {},
   "outputs": [],
   "source": []
  },
  {
   "cell_type": "code",
   "execution_count": null,
   "metadata": {},
   "outputs": [],
   "source": []
  }
 ],
 "metadata": {
  "kernelspec": {
   "display_name": "Python 3",
   "language": "python",
   "name": "python3"
  },
  "language_info": {
   "codemirror_mode": {
    "name": "ipython",
    "version": 3
   },
   "file_extension": ".py",
   "mimetype": "text/x-python",
   "name": "python",
   "nbconvert_exporter": "python",
   "pygments_lexer": "ipython3",
   "version": "3.7.3"
  }
 },
 "nbformat": 4,
 "nbformat_minor": 2
}
