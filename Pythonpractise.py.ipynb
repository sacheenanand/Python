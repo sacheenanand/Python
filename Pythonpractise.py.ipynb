{
 "cells": [
  {
   "cell_type": "code",
   "execution_count": 4,
   "metadata": {},
   "outputs": [
    {
     "name": "stdout",
     "output_type": "stream",
     "text": [
      " Your still not Alice\n"
     ]
    }
   ],
   "source": [
    "#program to check if else and elif\n",
    "\n",
    "name = \"Sacheen\"\n",
    "age = 12\n",
    "\n",
    "if name == \"Alice\":\n",
    "    print(\"Your wrong\")\n",
    "elif age < 15:\n",
    "    print(\" Your still not Alice\")\n",
    "elif age > 2000:\n",
    "    print(\"Still not Alice\")\n",
    "elif age < 100:\n",
    "    print(\"Age is just a remember\")\n",
    "else:\n",
    "    print(\"Okay I am tired\")\n",
    "\n",
    "        \n",
    "    \n",
    "        \n",
    "    \n",
    "        \n",
    "\n",
    "\n",
    "\n",
    "\n",
    "\n",
    "\n",
    "\n"
   ]
  },
  {
   "cell_type": "code",
   "execution_count": 15,
   "metadata": {},
   "outputs": [
    {
     "name": "stdout",
     "output_type": "stream",
     "text": [
      "[1, 2, 3, 4, 5]\n"
     ]
    }
   ],
   "source": [
    "list = [5, 4, 3, 2, 1]\n",
    "\n",
    "\n",
    "def insertion_sort(list):\n",
    "    for i in range(1, len(list)):\n",
    "        key = list[i]\n",
    "        j = i-1\n",
    "        \n",
    "        while j>=0 and list[j] > key:\n",
    "            list[j+1] = list[j]\n",
    "            j= j-1\n",
    "        list[j+1] = key\n",
    "    return list\n",
    "print(insertion_sort(list))\n",
    "    \n",
    "            \n",
    "        \n",
    "\n",
    "\n",
    "\n",
    "\n",
    "\n"
   ]
  },
  {
   "cell_type": "code",
   "execution_count": null,
   "metadata": {},
   "outputs": [],
   "source": []
  },
  {
   "cell_type": "code",
   "execution_count": null,
   "metadata": {},
   "outputs": [],
   "source": []
  }
 ],
 "metadata": {
  "kernelspec": {
   "display_name": "Python 3",
   "language": "python",
   "name": "python3"
  },
  "language_info": {
   "codemirror_mode": {
    "name": "ipython",
    "version": 3
   },
   "file_extension": ".py",
   "mimetype": "text/x-python",
   "name": "python",
   "nbconvert_exporter": "python",
   "pygments_lexer": "ipython3",
   "version": "3.7.3"
  }
 },
 "nbformat": 4,
 "nbformat_minor": 2
}
